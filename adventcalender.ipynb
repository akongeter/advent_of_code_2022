{
 "cells": [
  {
   "cell_type": "code",
   "execution_count": 4,
   "id": "3a8d1eaa",
   "metadata": {},
   "outputs": [],
   "source": [
    "import sys\n",
    "\n",
    "from pprint import pprint\n",
    "from typing import Dict, List, Tuple, Optional\n",
    "import os\n",
    "import numpy as np\n",
    "import timeit\n",
    "import statistics\n",
    "import matplotlib.pyplot as plt"
   ]
  },
  {
   "cell_type": "code",
   "execution_count": 36,
   "id": "cddeb9f3",
   "metadata": {},
   "outputs": [],
   "source": [
    "def read_from_file_1(file: str = \"data1.txt\"):\n",
    "    elves = []\n",
    "    elves.append(0)\n",
    "    i = 0\n",
    "    f = open(file, \"r\")\n",
    "    for row in f:\n",
    "        data = row.strip().split(' ')\n",
    "        if data[0] == \"\":\n",
    "            elves.append(0)\n",
    "            i = i + 1\n",
    "            continue\n",
    "        elves[i] = elves[i] + int(data[0])\n",
    "    f.close()\n",
    "    return np.array(elves).astype(np.int64)"
   ]
  },
  {
   "cell_type": "code",
   "execution_count": 37,
   "id": "04c337fd",
   "metadata": {},
   "outputs": [
    {
     "name": "stdout",
     "output_type": "stream",
     "text": [
      "70613\n"
     ]
    },
    {
     "data": {
      "text/plain": [
       "70613"
      ]
     },
     "execution_count": 37,
     "metadata": {},
     "output_type": "execute_result"
    }
   ],
   "source": [
    "def find_most_food():\n",
    "    elves = read_from_file_1(\"input.txt\")\n",
    "    print(np.max(elves))\n",
    "    return np.max(elves)\n",
    "\n",
    "find_most_food()"
   ]
  },
  {
   "cell_type": "code",
   "execution_count": 38,
   "id": "75b63f72",
   "metadata": {},
   "outputs": [
    {
     "name": "stdout",
     "output_type": "stream",
     "text": [
      "205805\n"
     ]
    },
    {
     "data": {
      "text/plain": [
       "205805"
      ]
     },
     "execution_count": 38,
     "metadata": {},
     "output_type": "execute_result"
    }
   ],
   "source": [
    "def find_most_three_foods():\n",
    "    elves = read_from_file_1(\"input.txt\")\n",
    "    total = 0\n",
    "    for i in range(0,3):\n",
    "        total = total + np.max(elves)\n",
    "        index = np.argmax(elves)\n",
    "        elves[index] = 0\n",
    "    print(total)\n",
    "    return total\n",
    "\n",
    "find_most_three_foods()"
   ]
  },
  {
   "cell_type": "code",
   "execution_count": 49,
   "id": "3c51f43b",
   "metadata": {},
   "outputs": [],
   "source": [
    "def read_from_file_2(file: str = \"data1.txt\"):\n",
    "    game = []\n",
    "    f = open(file, \"r\")\n",
    "    for row in f:\n",
    "        data = row.strip().split(' ')\n",
    "        game.append(data)\n",
    "    f.close()\n",
    "    return np.array(game)"
   ]
  },
  {
   "cell_type": "code",
   "execution_count": 50,
   "id": "cc030c61",
   "metadata": {},
   "outputs": [],
   "source": [
    "def game_score(game):\n",
    "    if game[0] == \"A\":\n",
    "        if game[1] == \"X\":\n",
    "            return 3\n",
    "        elif game[1] == \"Y\":\n",
    "            return 6\n",
    "        elif game[1] == \"Z\":\n",
    "            return 0\n",
    "    elif game[0] == \"B\":\n",
    "        if game[1] == \"X\":\n",
    "            return 0\n",
    "        elif game[1] == \"Y\":\n",
    "            return 3\n",
    "        elif game[1] == \"Z\":\n",
    "            return 6\n",
    "    elif game[0] == \"C\":\n",
    "        if game[1] == \"X\":\n",
    "            return 6\n",
    "        elif game[1] == \"Y\":\n",
    "            return 0\n",
    "        elif game[1] == \"Z\":\n",
    "            return 3"
   ]
  },
  {
   "cell_type": "code",
   "execution_count": 52,
   "id": "4a5f3f3c",
   "metadata": {},
   "outputs": [
    {
     "name": "stdout",
     "output_type": "stream",
     "text": [
      "[['A' 'Z']\n",
      " ['C' 'Z']\n",
      " ['C' 'Z']\n",
      " ...\n",
      " ['C' 'Z']\n",
      " ['C' 'Z']\n",
      " ['A' 'Z']]\n",
      "11475\n"
     ]
    }
   ],
   "source": [
    "def calc_score():\n",
    "    game = read_from_file_2(\"data2.txt\")\n",
    "    print(game)\n",
    "    score = 0\n",
    "    for g in game:\n",
    "        if g[1] == \"X\":\n",
    "            score = score + 1\n",
    "            score = score + game_score(g)\n",
    "        elif g[1] == \"Y\":\n",
    "            score = score + 2\n",
    "            score = score + game_score(g)\n",
    "        elif g[1] == \"Z\":\n",
    "            score = score + 3\n",
    "            score = score + game_score(g)\n",
    "    \n",
    "    print(score)    \n",
    "    \n",
    "calc_score()    "
   ]
  },
  {
   "cell_type": "code",
   "execution_count": 53,
   "id": "dd874e99",
   "metadata": {},
   "outputs": [],
   "source": [
    "def game_score(game):\n",
    "    if game[0] == \"A\":\n",
    "        if game[1] == \"X\":\n",
    "            return 0 + 3\n",
    "        elif game[1] == \"Y\":\n",
    "            return 3 + 1\n",
    "        elif game[1] == \"Z\":\n",
    "            return 6 + 2\n",
    "    elif game[0] == \"B\":\n",
    "        if game[1] == \"X\":\n",
    "            return 0 + 1\n",
    "        elif game[1] == \"Y\":\n",
    "            return 3 + 2\n",
    "        elif game[1] == \"Z\":\n",
    "            return 6 + 3\n",
    "    elif game[0] == \"C\":\n",
    "        if game[1] == \"X\":\n",
    "            return 0 + 2\n",
    "        elif game[1] == \"Y\":\n",
    "            return 3 + 3\n",
    "        elif game[1] == \"Z\":\n",
    "            return 6 + 1"
   ]
  },
  {
   "cell_type": "code",
   "execution_count": 54,
   "id": "9d911a71",
   "metadata": {},
   "outputs": [
    {
     "name": "stdout",
     "output_type": "stream",
     "text": [
      "[['A' 'Z']\n",
      " ['C' 'Z']\n",
      " ['C' 'Z']\n",
      " ...\n",
      " ['C' 'Z']\n",
      " ['C' 'Z']\n",
      " ['A' 'Z']]\n",
      "16862\n"
     ]
    }
   ],
   "source": [
    "def calc_score_2():\n",
    "    game = read_from_file_2(\"data2.txt\")\n",
    "    print(game)\n",
    "    score = 0\n",
    "    for g in game:\n",
    "        score = score + game_score(g)\n",
    "    print(score)    \n",
    "    \n",
    "calc_score_2()   "
   ]
  },
  {
   "cell_type": "code",
   "execution_count": 45,
   "id": "37271e6b",
   "metadata": {},
   "outputs": [],
   "source": [
    "def read_from_file_3(file: str = \"data1.txt\"):\n",
    "    rucksacks = []\n",
    "    f = open(file, \"r\")\n",
    "    for row in f:\n",
    "        data = row.strip().split(' ')\n",
    "        rucksacks.append(data)\n",
    "    f.close()\n",
    "    return np.array(rucksacks)"
   ]
  },
  {
   "cell_type": "code",
   "execution_count": 84,
   "id": "079a84ad",
   "metadata": {},
   "outputs": [],
   "source": [
    "def convert_to_prio(char: str = \"a\"):\n",
    "    if char.islower():\n",
    "        return ord(char)-96\n",
    "    return ord(char)-38"
   ]
  },
  {
   "cell_type": "code",
   "execution_count": 101,
   "id": "e70bfb2e",
   "metadata": {},
   "outputs": [
    {
     "name": "stdout",
     "output_type": "stream",
     "text": [
      "8039\n"
     ]
    }
   ],
   "source": [
    "def get_item_priorities():\n",
    "    rucksacks = read_from_file_3(\"data3.txt\")\n",
    "    prios = []\n",
    "    prio = 0\n",
    "    for r in rucksacks:\n",
    "        left, right = r[0][:len(r[0])//2], r[0][len(r[0])//2:]\n",
    "        common = ''.join(set(left).intersection(right))\n",
    "        prio = prio + convert_to_prio(common)\n",
    "    \n",
    "    print(prio)\n",
    "\n",
    "get_item_priorities()"
   ]
  },
  {
   "cell_type": "code",
   "execution_count": 114,
   "id": "eb7e1663",
   "metadata": {},
   "outputs": [
    {
     "ename": "NameError",
     "evalue": "name 'read_from_file_3' is not defined",
     "output_type": "error",
     "traceback": [
      "\u001b[1;31m---------------------------------------------------------------------------\u001b[0m",
      "\u001b[1;31mNameError\u001b[0m                                 Traceback (most recent call last)",
      "Input \u001b[1;32mIn [114]\u001b[0m, in \u001b[0;36m<cell line: 13>\u001b[1;34m()\u001b[0m\n\u001b[0;32m      9\u001b[0m         prio \u001b[38;5;241m=\u001b[39m prio \u001b[38;5;241m+\u001b[39m convert_to_prio(badge)\n\u001b[0;32m     11\u001b[0m     \u001b[38;5;28mprint\u001b[39m(prio)\n\u001b[1;32m---> 13\u001b[0m \u001b[43mget_group_priorities\u001b[49m\u001b[43m(\u001b[49m\u001b[43m)\u001b[49m\n",
      "Input \u001b[1;32mIn [114]\u001b[0m, in \u001b[0;36mget_group_priorities\u001b[1;34m()\u001b[0m\n\u001b[0;32m      1\u001b[0m \u001b[38;5;28;01mdef\u001b[39;00m \u001b[38;5;21mget_group_priorities\u001b[39m():\n\u001b[1;32m----> 2\u001b[0m     rucksacks \u001b[38;5;241m=\u001b[39m \u001b[43mread_from_file_3\u001b[49m(\u001b[38;5;124m\"\u001b[39m\u001b[38;5;124mdata3.txt\u001b[39m\u001b[38;5;124m\"\u001b[39m)\n\u001b[0;32m      3\u001b[0m     prios \u001b[38;5;241m=\u001b[39m []\n\u001b[0;32m      4\u001b[0m     prio \u001b[38;5;241m=\u001b[39m \u001b[38;5;241m0\u001b[39m\n",
      "\u001b[1;31mNameError\u001b[0m: name 'read_from_file_3' is not defined"
     ]
    }
   ],
   "source": [
    "def get_group_priorities():\n",
    "    rucksacks = read_from_file_3(\"data3.txt\")\n",
    "    prios = []\n",
    "    prio = 0\n",
    "    lenght = int(rucksacks.shape[0]/3)\n",
    "    for i in range(0, rucksacks.shape[0], 3):\n",
    "        common = ''.join(set(rucksacks[i][0]).intersection(rucksacks[i+1][0]))\n",
    "        badge = ''.join(set(common).intersection(rucksacks[i+2][0]))\n",
    "        prio = prio + convert_to_prio(badge)\n",
    "    \n",
    "    print(prio)\n",
    "\n",
    "get_group_priorities()"
   ]
  },
  {
   "cell_type": "code",
   "execution_count": 119,
   "id": "955f58e2",
   "metadata": {},
   "outputs": [],
   "source": [
    "def read_from_file_4(file: str = \"data1.txt\"):\n",
    "    pairs = []\n",
    "    f = open(file, \"r\")\n",
    "    for row in f:\n",
    "        data = row.strip().split(',')\n",
    "        range_1 = data[0].split('-')\n",
    "        range_2 = data[1].split('-')\n",
    "        elf_1 = list(range(int(range_1[0]),int(range_1[1])+1))\n",
    "        elf_2 = list(range(int(range_2[0]),int(range_2[1])+1))\n",
    "        pairs.append([elf_1, elf_2])\n",
    "    f.close()\n",
    "    return pairs"
   ]
  },
  {
   "cell_type": "code",
   "execution_count": 124,
   "id": "96aaa05a",
   "metadata": {},
   "outputs": [],
   "source": [
    "def find_full_contains(file: str = \"data4.txt\"):\n",
    "    num_full_contains = 0\n",
    "    pairs = read_from_file_4(\"data4.txt\")\n",
    "    for p in pairs:\n",
    "        if (p[0][0] <= p[1][0] and p[0][-1] >= p[1][-1]) or (p[1][0] <= p[0][0] and p[1][-1] >= p[0][-1]):\n",
    "            num_full_contains = num_full_contains + 1\n",
    "    return num_full_contains"
   ]
  },
  {
   "cell_type": "code",
   "execution_count": 137,
   "id": "7ea50d0d",
   "metadata": {},
   "outputs": [],
   "source": [
    "def find_all_overlaps(file: str = \"data4.txt\"):\n",
    "    num_overlaps = 0\n",
    "    pairs = read_from_file_4(\"data4.txt\")\n",
    "    empty = set()\n",
    "    for p in pairs:\n",
    "        overlap = set(p[0]).intersection(set(p[1]))\n",
    "        if overlap != empty:\n",
    "            num_overlaps = num_overlaps + 1\n",
    "    return num_overlaps"
   ]
  },
  {
   "cell_type": "code",
   "execution_count": 138,
   "id": "535cab05",
   "metadata": {},
   "outputs": [
    {
     "name": "stdout",
     "output_type": "stream",
     "text": [
      "956\n"
     ]
    }
   ],
   "source": [
    "print(find_all_overlaps(\"data4.txt\"))"
   ]
  },
  {
   "cell_type": "code",
   "execution_count": 125,
   "id": "b9af50b1",
   "metadata": {},
   "outputs": [
    {
     "name": "stdout",
     "output_type": "stream",
     "text": [
      "651\n"
     ]
    }
   ],
   "source": [
    "print(find_full_contains(\"data4.txt\"))"
   ]
  },
  {
   "cell_type": "code",
   "execution_count": 94,
   "id": "dfb6a4c8",
   "metadata": {},
   "outputs": [],
   "source": [
    "def read_from_file_5(file: str = \"data1.txt\"):\n",
    "    cargo = []\n",
    "    instructions = [] \n",
    "    is_cargo = 1\n",
    "    \n",
    "    f = open(file, \"r\")\n",
    "    num_chars = len(f.readline().replace('\\n', ''))\n",
    "    num_lines = int(0.25 * num_chars + 0.25)\n",
    "    f.close()\n",
    "    \n",
    "    f = open(file, \"r\")\n",
    "    for row in f:\n",
    "        if is_cargo == 1:\n",
    "            data = row\n",
    "            lines = [data[i:i+4].replace(' ', '').replace('\\n', '').replace('[', '').replace(']', '') for i in range(0, len(data), 4)]\n",
    "            cargo.append(lines)\n",
    "            if row.strip() == \"\":\n",
    "                is_cargo = 0\n",
    "                cargo = cargo[:-2]\n",
    "        else:\n",
    "            data = row.strip().replace('move', '').split('from')\n",
    "            num_crates = int(data[0].strip())\n",
    "            from_to = data[1].split('to')\n",
    "            instructions.append([num_crates, int(from_to[0]), int(from_to[1])]) \n",
    "    f.close()\n",
    "    \n",
    "    cargo = np.ndarray.tolist(np.transpose(np.array(cargo)))\n",
    "    for i in range(len(cargo)):\n",
    "        cargo[i] = list(filter(lambda a: a != \"\", cargo[i]))    \n",
    "    \n",
    "    return cargo, np.array(instructions)"
   ]
  },
  {
   "cell_type": "code",
   "execution_count": 108,
   "id": "d31bff77",
   "metadata": {},
   "outputs": [],
   "source": [
    "def use_crane(num_crates, from_stack, to_stack,make=9000):\n",
    "    if make == 9000:\n",
    "        for i in range(0, int(num_crates)):\n",
    "            item = from_stack.pop(0)\n",
    "            to_stack.insert(0, item)\n",
    "       \n",
    "    else:\n",
    "        items = from_stack[0:num_crates]\n",
    "        from_stack = from_stack[num_crates:]\n",
    "        to_stack = items + to_stack\n",
    "        \n",
    "    return from_stack, to_stack    "
   ]
  },
  {
   "cell_type": "code",
   "execution_count": 109,
   "id": "0ec853d9",
   "metadata": {},
   "outputs": [],
   "source": [
    "def rearrange_crates(file: str = \"data5.txt\", make=9000):\n",
    "    crates, instructions = read_from_file_5(file)\n",
    "    for i in instructions:\n",
    "        crates[i[1]-1], crates[i[2]-1] = use_crane(i[0],crates[i[1]-1], crates[i[2]-1], make)\n",
    "    \n",
    "    final_top = \"\"\n",
    "    for c in crates:\n",
    "        final_top += c[0]\n",
    "    \n",
    "    return final_top"
   ]
  },
  {
   "cell_type": "code",
   "execution_count": 110,
   "id": "2dfb9180",
   "metadata": {},
   "outputs": [
    {
     "name": "stdout",
     "output_type": "stream",
     "text": [
      "PQTJRSHWS\n"
     ]
    }
   ],
   "source": [
    "print(rearrange_crates(\"data5.txt\", 9001))"
   ]
  },
  {
   "cell_type": "code",
   "execution_count": 9,
   "id": "febc2fd9",
   "metadata": {},
   "outputs": [],
   "source": [
    "def read_from_file_6(file: str = \"data6.txt\"):\n",
    "    text = []\n",
    "    f = open(file, \"r\")\n",
    "    for row in f:\n",
    "        data = row.strip()\n",
    "        text += data\n",
    "    f.close()\n",
    "    return np.array(text)"
   ]
  },
  {
   "cell_type": "code",
   "execution_count": 10,
   "id": "8e29c1b2",
   "metadata": {},
   "outputs": [],
   "source": [
    "def all_different(letters):\n",
    "    if len(set(letters)) == len(letters):\n",
    "        return True\n",
    "    return False"
   ]
  },
  {
   "cell_type": "code",
   "execution_count": 11,
   "id": "8aee36c4",
   "metadata": {},
   "outputs": [],
   "source": [
    "def find_start_of_packet(file: str = \"data6.txt\"):\n",
    "    text = read_from_file_6(file)\n",
    "    i = 1\n",
    "    for t in text:\n",
    "        if i < 4:\n",
    "            i = i + 1\n",
    "            continue\n",
    "        if all_different(text[i-4:i]):\n",
    "            return i\n",
    "        i = i + 1\n",
    "    return i     "
   ]
  },
  {
   "cell_type": "code",
   "execution_count": null,
   "id": "1cba1aaf",
   "metadata": {},
   "outputs": [],
   "source": []
  },
  {
   "cell_type": "code",
   "execution_count": 12,
   "id": "71e76e06",
   "metadata": {},
   "outputs": [
    {
     "name": "stdout",
     "output_type": "stream",
     "text": [
      "1707\n"
     ]
    }
   ],
   "source": [
    "print(find_start_of_packet(\"data6.txt\"))"
   ]
  }
 ],
 "metadata": {
  "kernelspec": {
   "display_name": "Python 3 (ipykernel)",
   "language": "python",
   "name": "python3"
  },
  "language_info": {
   "codemirror_mode": {
    "name": "ipython",
    "version": 3
   },
   "file_extension": ".py",
   "mimetype": "text/x-python",
   "name": "python",
   "nbconvert_exporter": "python",
   "pygments_lexer": "ipython3",
   "version": "3.9.13"
  }
 },
 "nbformat": 4,
 "nbformat_minor": 5
}
