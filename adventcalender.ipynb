{
 "cells": [
  {
   "cell_type": "code",
   "execution_count": 40,
   "id": "3a8d1eaa",
   "metadata": {},
   "outputs": [],
   "source": [
    "import sys\n",
    "\n",
    "from pprint import pprint\n",
    "from typing import Dict, List, Tuple, Optional\n",
    "import os\n",
    "import numpy as np\n",
    "import timeit\n",
    "import statistics\n",
    "import matplotlib.pyplot as plt"
   ]
  },
  {
   "cell_type": "code",
   "execution_count": 36,
   "id": "cddeb9f3",
   "metadata": {},
   "outputs": [],
   "source": [
    "def read_from_file_1(file: str = \"data1.txt\"):\n",
    "    elves = []\n",
    "    elves.append(0)\n",
    "    i = 0\n",
    "    f = open(file, \"r\")\n",
    "    for row in f:\n",
    "        data = row.strip().split(' ')\n",
    "        if data[0] == \"\":\n",
    "            elves.append(0)\n",
    "            i = i + 1\n",
    "            continue\n",
    "        elves[i] = elves[i] + int(data[0])\n",
    "    f.close()\n",
    "    return np.array(elves).astype(np.int64)"
   ]
  },
  {
   "cell_type": "code",
   "execution_count": 37,
   "id": "04c337fd",
   "metadata": {},
   "outputs": [
    {
     "name": "stdout",
     "output_type": "stream",
     "text": [
      "70613\n"
     ]
    },
    {
     "data": {
      "text/plain": [
       "70613"
      ]
     },
     "execution_count": 37,
     "metadata": {},
     "output_type": "execute_result"
    }
   ],
   "source": [
    "def find_most_food():\n",
    "    elves = read_from_file_1(\"input.txt\")\n",
    "    print(np.max(elves))\n",
    "    return np.max(elves)\n",
    "\n",
    "find_most_food()"
   ]
  },
  {
   "cell_type": "code",
   "execution_count": 38,
   "id": "75b63f72",
   "metadata": {},
   "outputs": [
    {
     "name": "stdout",
     "output_type": "stream",
     "text": [
      "205805\n"
     ]
    },
    {
     "data": {
      "text/plain": [
       "205805"
      ]
     },
     "execution_count": 38,
     "metadata": {},
     "output_type": "execute_result"
    }
   ],
   "source": [
    "def find_most_three_foods():\n",
    "    elves = read_from_file_1(\"input.txt\")\n",
    "    total = 0\n",
    "    for i in range(0,3):\n",
    "        total = total + np.max(elves)\n",
    "        index = np.argmax(elves)\n",
    "        elves[index] = 0\n",
    "    print(total)\n",
    "    return total\n",
    "\n",
    "find_most_three_foods()"
   ]
  },
  {
   "cell_type": "code",
   "execution_count": 49,
   "id": "3c51f43b",
   "metadata": {},
   "outputs": [],
   "source": [
    "def read_from_file_2(file: str = \"data1.txt\"):\n",
    "    game = []\n",
    "    f = open(file, \"r\")\n",
    "    for row in f:\n",
    "        data = row.strip().split(' ')\n",
    "        game.append(data)\n",
    "    f.close()\n",
    "    return np.array(game)"
   ]
  },
  {
   "cell_type": "code",
   "execution_count": 50,
   "id": "cc030c61",
   "metadata": {},
   "outputs": [],
   "source": [
    "def game_score(game):\n",
    "    if game[0] == \"A\":\n",
    "        if game[1] == \"X\":\n",
    "            return 3\n",
    "        elif game[1] == \"Y\":\n",
    "            return 6\n",
    "        elif game[1] == \"Z\":\n",
    "            return 0\n",
    "    elif game[0] == \"B\":\n",
    "        if game[1] == \"X\":\n",
    "            return 0\n",
    "        elif game[1] == \"Y\":\n",
    "            return 3\n",
    "        elif game[1] == \"Z\":\n",
    "            return 6\n",
    "    elif game[0] == \"C\":\n",
    "        if game[1] == \"X\":\n",
    "            return 6\n",
    "        elif game[1] == \"Y\":\n",
    "            return 0\n",
    "        elif game[1] == \"Z\":\n",
    "            return 3"
   ]
  },
  {
   "cell_type": "code",
   "execution_count": 52,
   "id": "4a5f3f3c",
   "metadata": {},
   "outputs": [
    {
     "name": "stdout",
     "output_type": "stream",
     "text": [
      "[['A' 'Z']\n",
      " ['C' 'Z']\n",
      " ['C' 'Z']\n",
      " ...\n",
      " ['C' 'Z']\n",
      " ['C' 'Z']\n",
      " ['A' 'Z']]\n",
      "11475\n"
     ]
    }
   ],
   "source": [
    "def calc_score():\n",
    "    game = read_from_file_2(\"data2.txt\")\n",
    "    print(game)\n",
    "    score = 0\n",
    "    for g in game:\n",
    "        if g[1] == \"X\":\n",
    "            score = score + 1\n",
    "            score = score + game_score(g)\n",
    "        elif g[1] == \"Y\":\n",
    "            score = score + 2\n",
    "            score = score + game_score(g)\n",
    "        elif g[1] == \"Z\":\n",
    "            score = score + 3\n",
    "            score = score + game_score(g)\n",
    "    \n",
    "    print(score)    \n",
    "    \n",
    "calc_score()    "
   ]
  },
  {
   "cell_type": "code",
   "execution_count": 53,
   "id": "dd874e99",
   "metadata": {},
   "outputs": [],
   "source": [
    "def game_score(game):\n",
    "    if game[0] == \"A\":\n",
    "        if game[1] == \"X\":\n",
    "            return 0 + 3\n",
    "        elif game[1] == \"Y\":\n",
    "            return 3 + 1\n",
    "        elif game[1] == \"Z\":\n",
    "            return 6 + 2\n",
    "    elif game[0] == \"B\":\n",
    "        if game[1] == \"X\":\n",
    "            return 0 + 1\n",
    "        elif game[1] == \"Y\":\n",
    "            return 3 + 2\n",
    "        elif game[1] == \"Z\":\n",
    "            return 6 + 3\n",
    "    elif game[0] == \"C\":\n",
    "        if game[1] == \"X\":\n",
    "            return 0 + 2\n",
    "        elif game[1] == \"Y\":\n",
    "            return 3 + 3\n",
    "        elif game[1] == \"Z\":\n",
    "            return 6 + 1"
   ]
  },
  {
   "cell_type": "code",
   "execution_count": 54,
   "id": "9d911a71",
   "metadata": {},
   "outputs": [
    {
     "name": "stdout",
     "output_type": "stream",
     "text": [
      "[['A' 'Z']\n",
      " ['C' 'Z']\n",
      " ['C' 'Z']\n",
      " ...\n",
      " ['C' 'Z']\n",
      " ['C' 'Z']\n",
      " ['A' 'Z']]\n",
      "16862\n"
     ]
    }
   ],
   "source": [
    "def calc_score_2():\n",
    "    game = read_from_file_2(\"data2.txt\")\n",
    "    print(game)\n",
    "    score = 0\n",
    "    for g in game:\n",
    "        score = score + game_score(g)\n",
    "    print(score)    \n",
    "    \n",
    "calc_score_2()   "
   ]
  },
  {
   "cell_type": "code",
   "execution_count": 45,
   "id": "37271e6b",
   "metadata": {},
   "outputs": [],
   "source": [
    "def read_from_file_3(file: str = \"data1.txt\"):\n",
    "    rucksacks = []\n",
    "    f = open(file, \"r\")\n",
    "    for row in f:\n",
    "        data = row.strip().split(' ')\n",
    "        rucksacks.append(data)\n",
    "    f.close()\n",
    "    return np.array(rucksacks)"
   ]
  },
  {
   "cell_type": "code",
   "execution_count": 84,
   "id": "079a84ad",
   "metadata": {},
   "outputs": [],
   "source": [
    "def convert_to_prio(char: str = \"a\"):\n",
    "    if char.islower():\n",
    "        return ord(char)-96\n",
    "    return ord(char)-38"
   ]
  },
  {
   "cell_type": "code",
   "execution_count": 101,
   "id": "e70bfb2e",
   "metadata": {},
   "outputs": [
    {
     "name": "stdout",
     "output_type": "stream",
     "text": [
      "8039\n"
     ]
    }
   ],
   "source": [
    "def get_item_priorities():\n",
    "    rucksacks = read_from_file_3(\"data3.txt\")\n",
    "    prios = []\n",
    "    prio = 0\n",
    "    for r in rucksacks:\n",
    "        left, right = r[0][:len(r[0])//2], r[0][len(r[0])//2:]\n",
    "        common = ''.join(set(left).intersection(right))\n",
    "        prio = prio + convert_to_prio(common)\n",
    "    \n",
    "    print(prio)\n",
    "\n",
    "get_item_priorities()"
   ]
  },
  {
   "cell_type": "code",
   "execution_count": 99,
   "id": "eb7e1663",
   "metadata": {},
   "outputs": [
    {
     "name": "stdout",
     "output_type": "stream",
     "text": [
      "2510\n"
     ]
    }
   ],
   "source": [
    "def get_group_priorities():\n",
    "    rucksacks = read_from_file_3(\"data3.txt\")\n",
    "    prios = []\n",
    "    prio = 0\n",
    "    lenght = int(rucksacks.shape[0]/3)\n",
    "    for i in range(0, rucksacks.shape[0], 3):\n",
    "        common = ''.join(set(rucksacks[i][0]).intersection(rucksacks[i+1][0]))\n",
    "        badge = ''.join(set(common).intersection(rucksacks[i+2][0]))\n",
    "        prio = prio + convert_to_prio(badge)\n",
    "    \n",
    "    print(prio)\n",
    "\n",
    "get_group_priorities()"
   ]
  }
 ],
 "metadata": {
  "kernelspec": {
   "display_name": "Python 3 (ipykernel)",
   "language": "python",
   "name": "python3"
  },
  "language_info": {
   "codemirror_mode": {
    "name": "ipython",
    "version": 3
   },
   "file_extension": ".py",
   "mimetype": "text/x-python",
   "name": "python",
   "nbconvert_exporter": "python",
   "pygments_lexer": "ipython3",
   "version": "3.9.13"
  }
 },
 "nbformat": 4,
 "nbformat_minor": 5
}
