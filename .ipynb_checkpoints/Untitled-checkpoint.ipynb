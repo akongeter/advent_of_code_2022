{
 "cells": [
  {
   "cell_type": "code",
   "execution_count": 1,
   "id": "51eaa5d1",
   "metadata": {},
   "outputs": [],
   "source": [
    "import sys\n",
    "\n",
    "from pprint import pprint\n",
    "from typing import Dict, List, Tuple, Optional\n",
    "import os\n",
    "import numpy as np\n",
    "import timeit\n",
    "import statistics\n",
    "import matplotlib.pyplot as plt"
   ]
  },
  {
   "cell_type": "code",
   "execution_count": 2,
   "id": "699ed08f",
   "metadata": {},
   "outputs": [],
   "source": [
    "def read_from_file_1(file: str = \"data1.txt\"):\n",
    "    D = []\n",
    "    f = open(file, \"r\")\n",
    "    for row in f:\n",
    "        data = row.strip().split(' ')\n",
    "        D += data\n",
    "    return np.array(D).astype(np.int64)"
   ]
  },
  {
   "cell_type": "code",
   "execution_count": 3,
   "id": "c296a0f1",
   "metadata": {},
   "outputs": [],
   "source": [
    "def count_increases(D) -> int:\n",
    "    increases = 0\n",
    "    for i in range(0,D.shape[0]-1):\n",
    "        if D[i]<D[i+1]:\n",
    "            increases += 1\n",
    "    return increases"
   ]
  },
  {
   "cell_type": "code",
   "execution_count": 4,
   "id": "c692e27b",
   "metadata": {},
   "outputs": [],
   "source": [
    "def count_increases_sliding_window(D) -> int:\n",
    "    increases = 0\n",
    "    for i in range(0,D.shape[0]-3):\n",
    "        if (D[i]+D[i+1]+D[i+2])<(D[i+1]+D[i+2]+D[i+3]):\n",
    "            increases += 1\n",
    "    return increases"
   ]
  },
  {
   "cell_type": "code",
   "execution_count": 5,
   "id": "1fc94184",
   "metadata": {},
   "outputs": [],
   "source": [
    "def solve_1():\n",
    "    D = read_from_file_1()\n",
    "    print(\"The solution for 1.1 is:\",count_increases(D))\n",
    "    print(\"The solution for 1.2 is:\",count_increases_sliding_window(D))"
   ]
  },
  {
   "cell_type": "code",
   "execution_count": 6,
   "id": "456a3913",
   "metadata": {},
   "outputs": [],
   "source": [
    "def location(file: str = \"data2.txt\"):\n",
    "    D = []\n",
    "    f = open(file, \"r\")\n",
    "    hor = 0\n",
    "    depth = 0\n",
    "    for row in f:\n",
    "        data = row.strip().split(' ')\n",
    "        pos_change = int(data[1])\n",
    "        if data[0] == \"forward\":\n",
    "            hor += pos_change\n",
    "        elif data[0] == \"down\":\n",
    "            depth += pos_change\n",
    "        else:\n",
    "            depth -= pos_change\n",
    "            \n",
    "    \n",
    "    return hor, depth"
   ]
  },
  {
   "cell_type": "code",
   "execution_count": 7,
   "id": "9d8896ca",
   "metadata": {},
   "outputs": [],
   "source": [
    "def location_with_aim(file: str = \"data2.txt\"):\n",
    "    D = []\n",
    "    f = open(file, \"r\")\n",
    "    hor = 0\n",
    "    depth = 0\n",
    "    aim = 0\n",
    "    for row in f:\n",
    "        data = row.strip().split(' ')\n",
    "        pos_change = int(data[1])\n",
    "        if data[0] == \"forward\":\n",
    "            hor += pos_change\n",
    "            depth += pos_change * aim\n",
    "        elif data[0] == \"down\":\n",
    "            aim += pos_change\n",
    "        else:\n",
    "            aim -= pos_change\n",
    "            \n",
    "    return hor, depth, aim"
   ]
  },
  {
   "cell_type": "code",
   "execution_count": 8,
   "id": "5d264678",
   "metadata": {},
   "outputs": [],
   "source": [
    "def solve_2():\n",
    "    hor, depth = location(\"data2.txt\")\n",
    "    mult1 = hor*depth\n",
    "    print(\"The solution for 2.1 is:\",mult1)\n",
    "    hor, depth, aim = location_with_aim(\"data2.txt\")\n",
    "    mult2 = hor*depth\n",
    "    print(\"The solution for 2.2 is:\",mult2)"
   ]
  },
  {
   "cell_type": "code",
   "execution_count": 9,
   "id": "049546a3",
   "metadata": {},
   "outputs": [],
   "source": [
    "def read_from_file_3(file: str = \"data3.txt\"):\n",
    "    D = []\n",
    "    f = open(file, \"r\")\n",
    "    for row in f:\n",
    "        data = row.strip().split()\n",
    "        data[0] = list(data[0])\n",
    "        D += data\n",
    "    return np.array(D).astype(np.int64)"
   ]
  },
  {
   "cell_type": "code",
   "execution_count": 104,
   "id": "7291ec67",
   "metadata": {},
   "outputs": [],
   "source": [
    "def convert_to_bin(A):\n",
    "    lenght = len(A)\n",
    "    return [A[i] * (2**(lenght-i-1)) for i in range(0,lenght)]"
   ]
  },
  {
   "cell_type": "code",
   "execution_count": 105,
   "id": "ba5fe2b4",
   "metadata": {},
   "outputs": [],
   "source": [
    "def decode(D):\n",
    "    lenght = D.shape[1]\n",
    "    gamma_rate = np.zeros(lenght)\n",
    "    epsilon_rate = np.zeros(lenght)\n",
    "    for i in range(0, lenght):\n",
    "        if np.mean(D,axis=0)[i] > 0.5:\n",
    "            gamma_rate[i] = 1  \n",
    "        else:\n",
    "            epsilon_rate[i] = 1\n",
    "    gamma_rate = convert_to_bin(gamma_rate)\n",
    "    epsilon_rate = convert_to_bin(epsilon_rate)\n",
    "    gamma_epsilon = np.sum(gamma_rate)*np.sum(epsilon_rate)\n",
    "    return gamma_epsilon\n",
    "            "
   ]
  },
  {
   "cell_type": "code",
   "execution_count": 109,
   "id": "c4c5a3b3",
   "metadata": {},
   "outputs": [],
   "source": [
    "def oxygen(D):\n",
    "    i = 0\n",
    "    while D.shape[0] > 1:\n",
    "        if np.mean(D,axis=0)[i] >= 0.5:\n",
    "            indexes = np.argwhere(D[:,i]==1).flatten()\n",
    "        else:\n",
    "            indexes = np.argwhere(D[:,i]==0).flatten()\n",
    "        D = D[indexes,:]\n",
    "        i += 1\n",
    "    oxygen = np.sum(convert_to_bin(D.flatten()))\n",
    "    return oxygen"
   ]
  },
  {
   "cell_type": "code",
   "execution_count": 110,
   "id": "780e2468",
   "metadata": {},
   "outputs": [],
   "source": [
    "def co2(D):\n",
    "    i = 0\n",
    "    while D.shape[0] > 1:\n",
    "        if np.mean(D,axis=0)[i] < 0.5:\n",
    "            indexes = np.argwhere(D[:,i]==1).flatten()\n",
    "        else:\n",
    "            indexes = np.argwhere(D[:,i]==0).flatten()\n",
    "        D = D[indexes,:]\n",
    "        i += 1\n",
    "    oxygen = np.sum(convert_to_bin(D.flatten()))\n",
    "    return co2"
   ]
  },
  {
   "cell_type": "code",
   "execution_count": 111,
   "id": "90f89064",
   "metadata": {},
   "outputs": [
    {
     "name": "stdout",
     "output_type": "stream",
     "text": [
      "23\n"
     ]
    },
    {
     "ename": "NameError",
     "evalue": "name 'to_bin' is not defined",
     "output_type": "error",
     "traceback": [
      "\u001b[1;31m---------------------------------------------------------------------------\u001b[0m",
      "\u001b[1;31mNameError\u001b[0m                                 Traceback (most recent call last)",
      "\u001b[1;32m<ipython-input-111-8f61695925eb>\u001b[0m in \u001b[0;36m<module>\u001b[1;34m\u001b[0m\n\u001b[0;32m      2\u001b[0m \u001b[0mgamma_epsilon\u001b[0m \u001b[1;33m=\u001b[0m \u001b[0mdecode\u001b[0m\u001b[1;33m(\u001b[0m\u001b[0mD\u001b[0m\u001b[1;33m)\u001b[0m\u001b[1;33m\u001b[0m\u001b[1;33m\u001b[0m\u001b[0m\n\u001b[0;32m      3\u001b[0m \u001b[0mprint\u001b[0m\u001b[1;33m(\u001b[0m\u001b[0moxygen\u001b[0m\u001b[1;33m(\u001b[0m\u001b[0mD\u001b[0m\u001b[1;33m)\u001b[0m\u001b[1;33m)\u001b[0m\u001b[1;33m\u001b[0m\u001b[1;33m\u001b[0m\u001b[0m\n\u001b[1;32m----> 4\u001b[1;33m \u001b[0mprint\u001b[0m\u001b[1;33m(\u001b[0m\u001b[0mco2\u001b[0m\u001b[1;33m(\u001b[0m\u001b[0mD\u001b[0m\u001b[1;33m)\u001b[0m\u001b[1;33m)\u001b[0m\u001b[1;33m\u001b[0m\u001b[1;33m\u001b[0m\u001b[0m\n\u001b[0m\u001b[0;32m      5\u001b[0m \u001b[0mprint\u001b[0m\u001b[1;33m(\u001b[0m\u001b[0mgamma_epsilon\u001b[0m\u001b[1;33m)\u001b[0m\u001b[1;33m\u001b[0m\u001b[1;33m\u001b[0m\u001b[0m\n\u001b[0;32m      6\u001b[0m \u001b[1;33m\u001b[0m\u001b[0m\n",
      "\u001b[1;32m<ipython-input-110-f5e2a78b7ccd>\u001b[0m in \u001b[0;36mco2\u001b[1;34m(D)\u001b[0m\n\u001b[0;32m      8\u001b[0m         \u001b[0mD\u001b[0m \u001b[1;33m=\u001b[0m \u001b[0mD\u001b[0m\u001b[1;33m[\u001b[0m\u001b[0mindexes\u001b[0m\u001b[1;33m,\u001b[0m\u001b[1;33m:\u001b[0m\u001b[1;33m]\u001b[0m\u001b[1;33m\u001b[0m\u001b[1;33m\u001b[0m\u001b[0m\n\u001b[0;32m      9\u001b[0m         \u001b[0mi\u001b[0m \u001b[1;33m+=\u001b[0m \u001b[1;36m1\u001b[0m\u001b[1;33m\u001b[0m\u001b[1;33m\u001b[0m\u001b[0m\n\u001b[1;32m---> 10\u001b[1;33m     \u001b[0mco2\u001b[0m \u001b[1;33m=\u001b[0m \u001b[0mnp\u001b[0m\u001b[1;33m.\u001b[0m\u001b[0msum\u001b[0m\u001b[1;33m(\u001b[0m\u001b[0mto_bin\u001b[0m\u001b[1;33m(\u001b[0m\u001b[0mD\u001b[0m\u001b[1;33m.\u001b[0m\u001b[0mflatten\u001b[0m\u001b[1;33m(\u001b[0m\u001b[1;33m)\u001b[0m\u001b[1;33m)\u001b[0m\u001b[1;33m)\u001b[0m\u001b[1;33m\u001b[0m\u001b[1;33m\u001b[0m\u001b[0m\n\u001b[0m\u001b[0;32m     11\u001b[0m     \u001b[1;32mreturn\u001b[0m \u001b[0mco2\u001b[0m\u001b[1;33m\u001b[0m\u001b[1;33m\u001b[0m\u001b[0m\n",
      "\u001b[1;31mNameError\u001b[0m: name 'to_bin' is not defined"
     ]
    }
   ],
   "source": [
    "D = read_from_file_3(\"test3.txt\")\n",
    "gamma_epsilon = decode(D)\n",
    "print(oxygen(D))\n",
    "print(co2(D))\n",
    "print(gamma_epsilon)\n",
    "\n",
    "#gamma = np.sum(gamma_rate[lenght-i] * (2*i) for i in range(1,lenght+1))"
   ]
  },
  {
   "cell_type": "code",
   "execution_count": 22,
   "id": "a0108c06",
   "metadata": {},
   "outputs": [
    {
     "name": "stdout",
     "output_type": "stream",
     "text": [
      "The solution for 1.1 is: 1374\n",
      "The solution for 1.2 is: 1418\n",
      "The solution for 2.1 is: 1654760\n",
      "The solution for 2.2 is: 1956047400\n"
     ]
    }
   ],
   "source": [
    "solve_1()\n",
    "solve_2()"
   ]
  }
 ],
 "metadata": {
  "kernelspec": {
   "display_name": "Python 3",
   "language": "python",
   "name": "python3"
  },
  "language_info": {
   "codemirror_mode": {
    "name": "ipython",
    "version": 3
   },
   "file_extension": ".py",
   "mimetype": "text/x-python",
   "name": "python",
   "nbconvert_exporter": "python",
   "pygments_lexer": "ipython3",
   "version": "3.7.4"
  }
 },
 "nbformat": 4,
 "nbformat_minor": 5
}
